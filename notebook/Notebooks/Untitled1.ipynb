{
 "cells": [
  {
   "cell_type": "code",
   "execution_count": 3,
   "id": "1fd5634b-aeb0-4ff6-92f7-7d09182dc64b",
   "metadata": {},
   "outputs": [
    {
     "name": "stdout",
     "output_type": "stream",
     "text": [
      "Patient créé avec succès\n",
      "201\n",
      "\n"
     ]
    }
   ],
   "source": [
    "import requests\n",
    "import json\n",
    "\n",
    "# URL du serveur FHIR\n",
    "fhir_server_url = \"http://host.docker.internal:28000/irisapp/fhir/r4\"\n",
    "\n",
    "# Données du patient à créer\n",
    "patient_data = {\n",
    "    \"resourceType\": \"Patient\",\n",
    "    \"active\": True,\n",
    "    \"name\": [\n",
    "        {\n",
    "            \"use\": \"official\",\n",
    "            \"family\": \"Dupont\",\n",
    "            \"given\": [\"Jean\"]\n",
    "        }\n",
    "    ],\n",
    "    \"gender\": \"male\",\n",
    "    \"birthDate\": \"1970-01-01\"\n",
    "}\n",
    "\n",
    "# En-têtes de la requête\n",
    "headers = {\n",
    "    \"Content-Type\": \"application/fhir+json\",\n",
    "    \"Accept\": \"application/fhir+json\"\n",
    "}\n",
    "\n",
    "# Effectuer la requête POST\n",
    "response = requests.post(\n",
    "    f\"{fhir_server_url}/Patient\", \n",
    "    headers=headers,\n",
    "    data=json.dumps(patient_data)\n",
    ")\n",
    "\n",
    "# Vérifier la réponse\n",
    "if response.status_code == 201:\n",
    "    print(\"Patient créé avec succès\")\n",
    "else:\n",
    "    print(\"Erreur lors de la création du patient\")\n",
    "print(response.status_code)\n",
    "print(response.text)"
   ]
  },
  {
   "cell_type": "code",
   "execution_count": null,
   "id": "f76900eb-4646-4789-b3c8-5ef45ae09a95",
   "metadata": {},
   "outputs": [],
   "source": [
    "import csv\n",
    "import requests\n",
    "import json\n",
    "\n",
    "def csv_to_fhir_and_post(csv_file, fhir_server_url):\n",
    "    with open(csv_file, 'r') as file:\n",
    "        csv_reader = csv.DictReader(file)\n",
    "        \n",
    "        for row in csv_reader:\n",
    "            # Création de la ressource FHIR Patient\n",
    "            patient = {\n",
    "                \"resourceType\": \"Patient\",\n",
    "                \"name\": [{\n",
    "                    \"family\": row['nom'],\n",
    "                    \"given\": [row['prenom']]\n",
    "                }],\n",
    "                \"birthDate\": row['date_naissance'],\n",
    "                \"gender\": row['sexe']\n",
    "            }\n",
    "            \n",
    "            # Envoi de la ressource au serveur FHIR\n",
    "            headers = {\n",
    "                'Content-Type': 'application/fhir+json'\n",
    "            }\n",
    "            response = requests.post(f\"{fhir_server_url}/Patient\", \n",
    "                                     json=patient, \n",
    "                                     headers=headers)\n",
    "            \n",
    "            if response.status_code == 201:\n",
    "                print(f\"Patient {row['nom']} {row['prenom']} créé avec succès\")\n",
    "            else:\n",
    "                print(f\"Erreur lors de la création du patient {row['nom']} {row['prenom']}: {response.status_code}\")\n",
    "                print(response.text)\n",
    "\n",
    "# Utilisation\n",
    "csv_to_fhir_and_post('patients.csv', 'http://hapi.fhir.org/baseR4')"
   ]
  }
 ],
 "metadata": {
  "kernelspec": {
   "display_name": "Python 3 (ipykernel)",
   "language": "python",
   "name": "python3"
  },
  "language_info": {
   "codemirror_mode": {
    "name": "ipython",
    "version": 3
   },
   "file_extension": ".py",
   "mimetype": "text/x-python",
   "name": "python",
   "nbconvert_exporter": "python",
   "pygments_lexer": "ipython3",
   "version": "3.11.9"
  }
 },
 "nbformat": 4,
 "nbformat_minor": 5
}
